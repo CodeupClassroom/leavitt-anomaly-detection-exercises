{
 "cells": [
  {
   "cell_type": "code",
   "execution_count": 1,
   "id": "4a37789d-0a36-4b2f-bdce-cedbfd668655",
   "metadata": {},
   "outputs": [],
   "source": [
    "url = \"https://gist.githubusercontent.com/ryanorsinger/6218f5731f3df7cb4771ff3879fdeaa3/raw/88cb6bed276e2236c33df011bd753b6c73832c30/quartet.csv\""
   ]
  },
  {
   "cell_type": "code",
   "execution_count": 2,
   "id": "b02cdb11-b104-411a-9558-03e00ae906ec",
   "metadata": {},
   "outputs": [],
   "source": [
    "# grab our imports\n",
    "import numpy as np\n",
    "import pandas as pd\n",
    "import matplotlib.pyplot as plt\n",
    "import seaborn as sns\n",
    "from pydataset import data"
   ]
  },
  {
   "cell_type": "code",
   "execution_count": 3,
   "id": "d37e4ee6-0ef9-4c2a-9168-f65de48fd311",
   "metadata": {},
   "outputs": [],
   "source": [
    "# let's grab down that url and turn it into a dataframe\n",
    "df = pd.read_csv(url)"
   ]
  },
  {
   "cell_type": "code",
   "execution_count": 4,
   "id": "86b889e3-1f07-4be1-9f12-1a95fd68ea64",
   "metadata": {},
   "outputs": [
    {
     "data": {
      "text/html": [
       "<div>\n",
       "<style scoped>\n",
       "    .dataframe tbody tr th:only-of-type {\n",
       "        vertical-align: middle;\n",
       "    }\n",
       "\n",
       "    .dataframe tbody tr th {\n",
       "        vertical-align: top;\n",
       "    }\n",
       "\n",
       "    .dataframe thead th {\n",
       "        text-align: right;\n",
       "    }\n",
       "</style>\n",
       "<table border=\"1\" class=\"dataframe\">\n",
       "  <thead>\n",
       "    <tr style=\"text-align: right;\">\n",
       "      <th></th>\n",
       "      <th>id</th>\n",
       "      <th>dataset</th>\n",
       "      <th>x</th>\n",
       "      <th>y</th>\n",
       "    </tr>\n",
       "  </thead>\n",
       "  <tbody>\n",
       "    <tr>\n",
       "      <th>0</th>\n",
       "      <td>0</td>\n",
       "      <td>I</td>\n",
       "      <td>10.0</td>\n",
       "      <td>8.04</td>\n",
       "    </tr>\n",
       "    <tr>\n",
       "      <th>1</th>\n",
       "      <td>1</td>\n",
       "      <td>I</td>\n",
       "      <td>8.0</td>\n",
       "      <td>6.95</td>\n",
       "    </tr>\n",
       "    <tr>\n",
       "      <th>2</th>\n",
       "      <td>2</td>\n",
       "      <td>I</td>\n",
       "      <td>13.0</td>\n",
       "      <td>7.58</td>\n",
       "    </tr>\n",
       "    <tr>\n",
       "      <th>3</th>\n",
       "      <td>3</td>\n",
       "      <td>I</td>\n",
       "      <td>9.0</td>\n",
       "      <td>8.81</td>\n",
       "    </tr>\n",
       "    <tr>\n",
       "      <th>4</th>\n",
       "      <td>4</td>\n",
       "      <td>I</td>\n",
       "      <td>11.0</td>\n",
       "      <td>8.33</td>\n",
       "    </tr>\n",
       "  </tbody>\n",
       "</table>\n",
       "</div>"
      ],
      "text/plain": [
       "   id dataset     x     y\n",
       "0   0       I  10.0  8.04\n",
       "1   1       I   8.0  6.95\n",
       "2   2       I  13.0  7.58\n",
       "3   3       I   9.0  8.81\n",
       "4   4       I  11.0  8.33"
      ]
     },
     "execution_count": 4,
     "metadata": {},
     "output_type": "execute_result"
    }
   ],
   "source": [
    "# examine the head of the dataframe\n",
    "df.head()"
   ]
  },
  {
   "cell_type": "code",
   "execution_count": 5,
   "id": "a028929d-dab6-4791-ab24-62c4459745f9",
   "metadata": {},
   "outputs": [
    {
     "name": "stdout",
     "output_type": "stream",
     "text": [
      "<class 'pandas.core.frame.DataFrame'>\n",
      "RangeIndex: 44 entries, 0 to 43\n",
      "Data columns (total 4 columns):\n",
      " #   Column   Non-Null Count  Dtype  \n",
      "---  ------   --------------  -----  \n",
      " 0   id       44 non-null     int64  \n",
      " 1   dataset  44 non-null     object \n",
      " 2   x        44 non-null     float64\n",
      " 3   y        44 non-null     float64\n",
      "dtypes: float64(2), int64(1), object(1)\n",
      "memory usage: 1.5+ KB\n"
     ]
    }
   ],
   "source": [
    "df.info()"
   ]
  },
  {
   "cell_type": "code",
   "execution_count": 6,
   "id": "4facb2e3-62bd-4a1f-b031-6d370b5642ba",
   "metadata": {},
   "outputs": [],
   "source": [
    "df = df.drop(columns='id')"
   ]
  },
  {
   "cell_type": "code",
   "execution_count": 7,
   "id": "7bf56b64-c296-4df1-911a-1c1cd28c1b5c",
   "metadata": {},
   "outputs": [
    {
     "data": {
      "text/html": [
       "<div>\n",
       "<style scoped>\n",
       "    .dataframe tbody tr th:only-of-type {\n",
       "        vertical-align: middle;\n",
       "    }\n",
       "\n",
       "    .dataframe tbody tr th {\n",
       "        vertical-align: top;\n",
       "    }\n",
       "\n",
       "    .dataframe thead th {\n",
       "        text-align: right;\n",
       "    }\n",
       "</style>\n",
       "<table border=\"1\" class=\"dataframe\">\n",
       "  <thead>\n",
       "    <tr style=\"text-align: right;\">\n",
       "      <th></th>\n",
       "      <th>x</th>\n",
       "      <th>y</th>\n",
       "    </tr>\n",
       "  </thead>\n",
       "  <tbody>\n",
       "    <tr>\n",
       "      <th>count</th>\n",
       "      <td>44.000000</td>\n",
       "      <td>44.000000</td>\n",
       "    </tr>\n",
       "    <tr>\n",
       "      <th>mean</th>\n",
       "      <td>9.000000</td>\n",
       "      <td>7.500682</td>\n",
       "    </tr>\n",
       "    <tr>\n",
       "      <th>std</th>\n",
       "      <td>3.198837</td>\n",
       "      <td>1.958925</td>\n",
       "    </tr>\n",
       "    <tr>\n",
       "      <th>min</th>\n",
       "      <td>4.000000</td>\n",
       "      <td>3.100000</td>\n",
       "    </tr>\n",
       "    <tr>\n",
       "      <th>25%</th>\n",
       "      <td>7.000000</td>\n",
       "      <td>6.117500</td>\n",
       "    </tr>\n",
       "    <tr>\n",
       "      <th>50%</th>\n",
       "      <td>8.000000</td>\n",
       "      <td>7.520000</td>\n",
       "    </tr>\n",
       "    <tr>\n",
       "      <th>75%</th>\n",
       "      <td>11.000000</td>\n",
       "      <td>8.747500</td>\n",
       "    </tr>\n",
       "    <tr>\n",
       "      <th>max</th>\n",
       "      <td>19.000000</td>\n",
       "      <td>12.740000</td>\n",
       "    </tr>\n",
       "  </tbody>\n",
       "</table>\n",
       "</div>"
      ],
      "text/plain": [
       "               x          y\n",
       "count  44.000000  44.000000\n",
       "mean    9.000000   7.500682\n",
       "std     3.198837   1.958925\n",
       "min     4.000000   3.100000\n",
       "25%     7.000000   6.117500\n",
       "50%     8.000000   7.520000\n",
       "75%    11.000000   8.747500\n",
       "max    19.000000  12.740000"
      ]
     },
     "execution_count": 7,
     "metadata": {},
     "output_type": "execute_result"
    }
   ],
   "source": [
    "df.describe()"
   ]
  },
  {
   "cell_type": "code",
   "execution_count": 8,
   "id": "4f74d78c-0d35-4986-aa86-517bbfe99eec",
   "metadata": {},
   "outputs": [
    {
     "data": {
      "text/plain": [
       "I      11\n",
       "III    11\n",
       "II     11\n",
       "IV     11\n",
       "Name: dataset, dtype: int64"
      ]
     },
     "execution_count": 8,
     "metadata": {},
     "output_type": "execute_result"
    }
   ],
   "source": [
    "# whats in dataset?\n",
    "df.dataset.value_counts()\n",
    "# it appears to be a categorical"
   ]
  },
  {
   "cell_type": "code",
   "execution_count": 9,
   "id": "fe2f0d3f-ee5d-4068-995d-ff7798139fcb",
   "metadata": {},
   "outputs": [
    {
     "data": {
      "text/html": [
       "<div>\n",
       "<style scoped>\n",
       "    .dataframe tbody tr th:only-of-type {\n",
       "        vertical-align: middle;\n",
       "    }\n",
       "\n",
       "    .dataframe tbody tr th {\n",
       "        vertical-align: top;\n",
       "    }\n",
       "\n",
       "    .dataframe thead th {\n",
       "        text-align: right;\n",
       "    }\n",
       "</style>\n",
       "<table border=\"1\" class=\"dataframe\">\n",
       "  <thead>\n",
       "    <tr style=\"text-align: right;\">\n",
       "      <th></th>\n",
       "      <th>dataset</th>\n",
       "      <th>I</th>\n",
       "      <th>II</th>\n",
       "      <th>III</th>\n",
       "      <th>IV</th>\n",
       "    </tr>\n",
       "  </thead>\n",
       "  <tbody>\n",
       "    <tr>\n",
       "      <th rowspan=\"8\" valign=\"top\">x</th>\n",
       "      <th>count</th>\n",
       "      <td>11.000000</td>\n",
       "      <td>11.000000</td>\n",
       "      <td>11.000000</td>\n",
       "      <td>11.000000</td>\n",
       "    </tr>\n",
       "    <tr>\n",
       "      <th>mean</th>\n",
       "      <td>9.000000</td>\n",
       "      <td>9.000000</td>\n",
       "      <td>9.000000</td>\n",
       "      <td>9.000000</td>\n",
       "    </tr>\n",
       "    <tr>\n",
       "      <th>std</th>\n",
       "      <td>3.316625</td>\n",
       "      <td>3.316625</td>\n",
       "      <td>3.316625</td>\n",
       "      <td>3.316625</td>\n",
       "    </tr>\n",
       "    <tr>\n",
       "      <th>min</th>\n",
       "      <td>4.000000</td>\n",
       "      <td>4.000000</td>\n",
       "      <td>4.000000</td>\n",
       "      <td>8.000000</td>\n",
       "    </tr>\n",
       "    <tr>\n",
       "      <th>25%</th>\n",
       "      <td>6.500000</td>\n",
       "      <td>6.500000</td>\n",
       "      <td>6.500000</td>\n",
       "      <td>8.000000</td>\n",
       "    </tr>\n",
       "    <tr>\n",
       "      <th>50%</th>\n",
       "      <td>9.000000</td>\n",
       "      <td>9.000000</td>\n",
       "      <td>9.000000</td>\n",
       "      <td>8.000000</td>\n",
       "    </tr>\n",
       "    <tr>\n",
       "      <th>75%</th>\n",
       "      <td>11.500000</td>\n",
       "      <td>11.500000</td>\n",
       "      <td>11.500000</td>\n",
       "      <td>8.000000</td>\n",
       "    </tr>\n",
       "    <tr>\n",
       "      <th>max</th>\n",
       "      <td>14.000000</td>\n",
       "      <td>14.000000</td>\n",
       "      <td>14.000000</td>\n",
       "      <td>19.000000</td>\n",
       "    </tr>\n",
       "    <tr>\n",
       "      <th rowspan=\"8\" valign=\"top\">y</th>\n",
       "      <th>count</th>\n",
       "      <td>11.000000</td>\n",
       "      <td>11.000000</td>\n",
       "      <td>11.000000</td>\n",
       "      <td>11.000000</td>\n",
       "    </tr>\n",
       "    <tr>\n",
       "      <th>mean</th>\n",
       "      <td>7.500909</td>\n",
       "      <td>7.500909</td>\n",
       "      <td>7.500000</td>\n",
       "      <td>7.500909</td>\n",
       "    </tr>\n",
       "    <tr>\n",
       "      <th>std</th>\n",
       "      <td>2.031568</td>\n",
       "      <td>2.031657</td>\n",
       "      <td>2.030424</td>\n",
       "      <td>2.030579</td>\n",
       "    </tr>\n",
       "    <tr>\n",
       "      <th>min</th>\n",
       "      <td>4.260000</td>\n",
       "      <td>3.100000</td>\n",
       "      <td>5.390000</td>\n",
       "      <td>5.250000</td>\n",
       "    </tr>\n",
       "    <tr>\n",
       "      <th>25%</th>\n",
       "      <td>6.315000</td>\n",
       "      <td>6.695000</td>\n",
       "      <td>6.250000</td>\n",
       "      <td>6.170000</td>\n",
       "    </tr>\n",
       "    <tr>\n",
       "      <th>50%</th>\n",
       "      <td>7.580000</td>\n",
       "      <td>8.140000</td>\n",
       "      <td>7.110000</td>\n",
       "      <td>7.040000</td>\n",
       "    </tr>\n",
       "    <tr>\n",
       "      <th>75%</th>\n",
       "      <td>8.570000</td>\n",
       "      <td>8.950000</td>\n",
       "      <td>7.980000</td>\n",
       "      <td>8.190000</td>\n",
       "    </tr>\n",
       "    <tr>\n",
       "      <th>max</th>\n",
       "      <td>10.840000</td>\n",
       "      <td>9.260000</td>\n",
       "      <td>12.740000</td>\n",
       "      <td>12.500000</td>\n",
       "    </tr>\n",
       "  </tbody>\n",
       "</table>\n",
       "</div>"
      ],
      "text/plain": [
       "dataset          I         II        III         IV\n",
       "x count  11.000000  11.000000  11.000000  11.000000\n",
       "  mean    9.000000   9.000000   9.000000   9.000000\n",
       "  std     3.316625   3.316625   3.316625   3.316625\n",
       "  min     4.000000   4.000000   4.000000   8.000000\n",
       "  25%     6.500000   6.500000   6.500000   8.000000\n",
       "  50%     9.000000   9.000000   9.000000   8.000000\n",
       "  75%    11.500000  11.500000  11.500000   8.000000\n",
       "  max    14.000000  14.000000  14.000000  19.000000\n",
       "y count  11.000000  11.000000  11.000000  11.000000\n",
       "  mean    7.500909   7.500909   7.500000   7.500909\n",
       "  std     2.031568   2.031657   2.030424   2.030579\n",
       "  min     4.260000   3.100000   5.390000   5.250000\n",
       "  25%     6.315000   6.695000   6.250000   6.170000\n",
       "  50%     7.580000   8.140000   7.110000   7.040000\n",
       "  75%     8.570000   8.950000   7.980000   8.190000\n",
       "  max    10.840000   9.260000  12.740000  12.500000"
      ]
     },
     "execution_count": 9,
     "metadata": {},
     "output_type": "execute_result"
    }
   ],
   "source": [
    "# what do those descriptive metrics mean for each group?\n",
    "df.groupby('dataset').describe().T"
   ]
  },
  {
   "cell_type": "code",
   "execution_count": 10,
   "id": "a10e54fd-f2ec-4976-8bc8-7687ff4e6f0d",
   "metadata": {},
   "outputs": [
    {
     "data": {
      "text/plain": [
       "<seaborn.axisgrid.FacetGrid at 0x7fe1206eeb50>"
      ]
     },
     "execution_count": 10,
     "metadata": {},
     "output_type": "execute_result"
    },
    {
     "data": {
      "image/png": "[encoded data removed]",
      "text/plain": [
       "<Figure size 1440x360 with 4 Axes>"
      ]
     },
     "metadata": {
      "needs_background": "light"
     },
     "output_type": "display_data"
    }
   ],
   "source": [
    "# lets examine this visually:\n",
    "sns.relplot(x='x', y='y', data=df, col='dataset')"
   ]
  },
  {
   "cell_type": "code",
   "execution_count": 11,
   "id": "fa9a960e-1c28-4b26-8d62-3709735ad78a",
   "metadata": {},
   "outputs": [],
   "source": [
    "# Ascombe's quartet is a really good reminder that we\n",
    "# should always be examining data both in descriptive \n",
    "# statistical methods as well as with visual methods :)"
   ]
  },
  {
   "cell_type": "code",
   "execution_count": 12,
   "id": "3d01220d-9920-48fa-9b97-19bbd9ad7cba",
   "metadata": {},
   "outputs": [],
   "source": [
    "# let's grab down swiss and utilize our typical\n",
    "# z score and IQR/Tukey methodologies for outlier \n",
    "# detection"
   ]
  },
  {
   "cell_type": "code",
   "execution_count": 13,
   "id": "d5ae6eeb-3049-4d1c-afe9-87c0c4ada5fb",
   "metadata": {},
   "outputs": [],
   "source": [
    "df = data('swiss')"
   ]
  },
  {
   "cell_type": "code",
   "execution_count": 15,
   "id": "0c81bca0-f6db-4d08-a2ad-4952393e4ddb",
   "metadata": {},
   "outputs": [
    {
     "name": "stdout",
     "output_type": "stream",
     "text": [
      "swiss\n",
      "\n",
      "PyDataset Documentation (adopted from R Documentation. The displayed examples are in R)\n",
      "\n",
      "## Swiss Fertility and Socioeconomic Indicators (1888) Data\n",
      "\n",
      "### Description\n",
      "\n",
      "Standardized fertility measure and socio-economic indicators for each of 47\n",
      "French-speaking provinces of Switzerland at about 1888.\n",
      "\n",
      "### Usage\n",
      "\n",
      "    data(swiss)\n",
      "\n",
      "### Format\n",
      "\n",
      "A data frame with 47 observations on 6 variables, each of which is in percent,\n",
      "i.e., in [0,100].\n",
      "\n",
      "[,1] Fertility Ig, \"common standardized fertility measure\" [,2] Agriculture\n",
      "[,3] Examination nation [,4] Education [,5] Catholic [,6] Infant.Mortality\n",
      "live births who live less than 1 year.\n",
      "\n",
      "All variables but 'Fert' give proportions of the population.\n",
      "\n",
      "### Source\n",
      "\n",
      "Project \"16P5\", pages 549-551 in\n",
      "\n",
      "Mosteller, F. and Tukey, J. W. (1977) “Data Analysis and Regression: A Second\n",
      "Course in Statistics”. Addison-Wesley, Reading Mass.\n",
      "\n",
      "indicating their source as \"Data used by permission of Franice van de Walle.\n",
      "Office of Population Research, Princeton University, 1976\\. Unpublished data\n",
      "assembled under NICHD contract number No 1-HD-O-2077.\"\n",
      "\n",
      "### References\n",
      "\n",
      "Becker, R. A., Chambers, J. M. and Wilks, A. R. (1988) “The New S Language”.\n",
      "Wadsworth & Brooks/Cole.\n",
      "\n",
      "\n"
     ]
    }
   ],
   "source": [
    "data('swiss', show_doc=True)"
   ]
  },
  {
   "cell_type": "code",
   "execution_count": 16,
   "id": "ec62cbed-3b13-4055-b643-679bd064f0a9",
   "metadata": {},
   "outputs": [
    {
     "name": "stdout",
     "output_type": "stream",
     "text": [
      "<class 'pandas.core.frame.DataFrame'>\n",
      "Index: 47 entries, Courtelary to Rive Gauche\n",
      "Data columns (total 6 columns):\n",
      " #   Column            Non-Null Count  Dtype  \n",
      "---  ------            --------------  -----  \n",
      " 0   Fertility         47 non-null     float64\n",
      " 1   Agriculture       47 non-null     float64\n",
      " 2   Examination       47 non-null     int64  \n",
      " 3   Education         47 non-null     int64  \n",
      " 4   Catholic          47 non-null     float64\n",
      " 5   Infant.Mortality  47 non-null     float64\n",
      "dtypes: float64(4), int64(2)\n",
      "memory usage: 2.6+ KB\n"
     ]
    }
   ],
   "source": [
    "df.info()"
   ]
  },
  {
   "cell_type": "code",
   "execution_count": 19,
   "id": "0b1449a0-29ee-40c9-8b11-ce10d32368ec",
   "metadata": {},
   "outputs": [],
   "source": [
    "# if we know that these features are all continuous\n",
    "# and numerical, let's examine our describe\n",
    "my_describe = df.describe()"
   ]
  },
  {
   "cell_type": "code",
   "execution_count": 20,
   "id": "7d1f9d97-7e8f-4dcf-b47a-5e94ee95ccdd",
   "metadata": {},
   "outputs": [
    {
     "data": {
      "text/html": [
       "<div>\n",
       "<style scoped>\n",
       "    .dataframe tbody tr th:only-of-type {\n",
       "        vertical-align: middle;\n",
       "    }\n",
       "\n",
       "    .dataframe tbody tr th {\n",
       "        vertical-align: top;\n",
       "    }\n",
       "\n",
       "    .dataframe thead th {\n",
       "        text-align: right;\n",
       "    }\n",
       "</style>\n",
       "<table border=\"1\" class=\"dataframe\">\n",
       "  <thead>\n",
       "    <tr style=\"text-align: right;\">\n",
       "      <th></th>\n",
       "      <th>Fertility</th>\n",
       "      <th>Agriculture</th>\n",
       "      <th>Examination</th>\n",
       "      <th>Education</th>\n",
       "      <th>Catholic</th>\n",
       "      <th>Infant.Mortality</th>\n",
       "    </tr>\n",
       "  </thead>\n",
       "  <tbody>\n",
       "    <tr>\n",
       "      <th>count</th>\n",
       "      <td>47.000000</td>\n",
       "      <td>47.000000</td>\n",
       "      <td>47.000000</td>\n",
       "      <td>47.000000</td>\n",
       "      <td>47.00000</td>\n",
       "      <td>47.000000</td>\n",
       "    </tr>\n",
       "    <tr>\n",
       "      <th>mean</th>\n",
       "      <td>70.142553</td>\n",
       "      <td>50.659574</td>\n",
       "      <td>16.489362</td>\n",
       "      <td>10.978723</td>\n",
       "      <td>41.14383</td>\n",
       "      <td>19.942553</td>\n",
       "    </tr>\n",
       "    <tr>\n",
       "      <th>std</th>\n",
       "      <td>12.491697</td>\n",
       "      <td>22.711218</td>\n",
       "      <td>7.977883</td>\n",
       "      <td>9.615407</td>\n",
       "      <td>41.70485</td>\n",
       "      <td>2.912697</td>\n",
       "    </tr>\n",
       "    <tr>\n",
       "      <th>min</th>\n",
       "      <td>35.000000</td>\n",
       "      <td>1.200000</td>\n",
       "      <td>3.000000</td>\n",
       "      <td>1.000000</td>\n",
       "      <td>2.15000</td>\n",
       "      <td>10.800000</td>\n",
       "    </tr>\n",
       "    <tr>\n",
       "      <th>25%</th>\n",
       "      <td>64.700000</td>\n",
       "      <td>35.900000</td>\n",
       "      <td>12.000000</td>\n",
       "      <td>6.000000</td>\n",
       "      <td>5.19500</td>\n",
       "      <td>18.150000</td>\n",
       "    </tr>\n",
       "    <tr>\n",
       "      <th>50%</th>\n",
       "      <td>70.400000</td>\n",
       "      <td>54.100000</td>\n",
       "      <td>16.000000</td>\n",
       "      <td>8.000000</td>\n",
       "      <td>15.14000</td>\n",
       "      <td>20.000000</td>\n",
       "    </tr>\n",
       "    <tr>\n",
       "      <th>75%</th>\n",
       "      <td>78.450000</td>\n",
       "      <td>67.650000</td>\n",
       "      <td>22.000000</td>\n",
       "      <td>12.000000</td>\n",
       "      <td>93.12500</td>\n",
       "      <td>21.700000</td>\n",
       "    </tr>\n",
       "    <tr>\n",
       "      <th>max</th>\n",
       "      <td>92.500000</td>\n",
       "      <td>89.700000</td>\n",
       "      <td>37.000000</td>\n",
       "      <td>53.000000</td>\n",
       "      <td>100.00000</td>\n",
       "      <td>26.600000</td>\n",
       "    </tr>\n",
       "  </tbody>\n",
       "</table>\n",
       "</div>"
      ],
      "text/plain": [
       "       Fertility  Agriculture  Examination  Education   Catholic  \\\n",
       "count  47.000000    47.000000    47.000000  47.000000   47.00000   \n",
       "mean   70.142553    50.659574    16.489362  10.978723   41.14383   \n",
       "std    12.491697    22.711218     7.977883   9.615407   41.70485   \n",
       "min    35.000000     1.200000     3.000000   1.000000    2.15000   \n",
       "25%    64.700000    35.900000    12.000000   6.000000    5.19500   \n",
       "50%    70.400000    54.100000    16.000000   8.000000   15.14000   \n",
       "75%    78.450000    67.650000    22.000000  12.000000   93.12500   \n",
       "max    92.500000    89.700000    37.000000  53.000000  100.00000   \n",
       "\n",
       "       Infant.Mortality  \n",
       "count         47.000000  \n",
       "mean          19.942553  \n",
       "std            2.912697  \n",
       "min           10.800000  \n",
       "25%           18.150000  \n",
       "50%           20.000000  \n",
       "75%           21.700000  \n",
       "max           26.600000  "
      ]
     },
     "execution_count": 20,
     "metadata": {},
     "output_type": "execute_result"
    }
   ],
   "source": [
    "my_describe"
   ]
  },
  {
   "cell_type": "code",
   "execution_count": 21,
   "id": "4bc0b231-829f-4ca3-92e8-80cca7a3cbdc",
   "metadata": {},
   "outputs": [
    {
     "data": {
      "image/png": "[encoded data removed]",
      "text/plain": [
       "<Figure size 432x288 with 1 Axes>"
      ]
     },
     "metadata": {
      "needs_background": "light"
     },
     "output_type": "display_data"
    },
    {
     "data": {
      "image/png": "[encoded data removed]",
      "text/plain": [
       "<Figure size 432x288 with 1 Axes>"
      ]
     },
     "metadata": {
      "needs_background": "light"
     },
     "output_type": "display_data"
    },
    {
     "name": "stdout",
     "output_type": "stream",
     "text": [
      "----------\n"
     ]
    },
    {
     "data": {
      "image/png": "[encoded data removed]",
      "text/plain": [
       "<Figure size 432x288 with 1 Axes>"
      ]
     },
     "metadata": {
      "needs_background": "light"
     },
     "output_type": "display_data"
    },
    {
     "data": {
      "image/png": "[encoded data removed]",
      "text/plain": [
       "<Figure size 432x288 with 1 Axes>"
      ]
     },
     "metadata": {
      "needs_background": "light"
     },
     "output_type": "display_data"
    },
    {
     "name": "stdout",
     "output_type": "stream",
     "text": [
      "----------\n"
     ]
    },
    {
     "data": {
      "image/png": "[encoded data removed]",
      "text/plain": [
       "<Figure size 432x288 with 1 Axes>"
      ]
     },
     "metadata": {
      "needs_background": "light"
     },
     "output_type": "display_data"
    },
    {
     "data": {
      "image/png": "[encoded data removed]",
      "text/plain": [
       "<Figure size 432x288 with 1 Axes>"
      ]
     },
     "metadata": {
      "needs_background": "light"
     },
     "output_type": "display_data"
    },
    {
     "name": "stdout",
     "output_type": "stream",
     "text": [
      "----------\n"
     ]
    },
    {
     "data": {
      "image/png": "[encoded data removed]",
      "text/plain": [
       "<Figure size 432x288 with 1 Axes>"
      ]
     },
     "metadata": {
      "needs_background": "light"
     },
     "output_type": "display_data"
    },
    {
     "data": {
      "image/png": "[encoded data removed]",
      "text/plain": [
       "<Figure size 432x288 with 1 Axes>"
      ]
     },
     "metadata": {
      "needs_background": "light"
     },
     "output_type": "display_data"
    },
    {
     "name": "stdout",
     "output_type": "stream",
     "text": [
      "----------\n"
     ]
    },
    {
     "data": {
      "image/png": "[encoded data removed]",
      "text/plain": [
       "<Figure size 432x288 with 1 Axes>"
      ]
     },
     "metadata": {
      "needs_background": "light"
     },
     "output_type": "display_data"
    },
    {
     "data": {
      "image/png": "[encoded data removed]",
      "text/plain": [
       "<Figure size 432x288 with 1 Axes>"
      ]
     },
     "metadata": {
      "needs_background": "light"
     },
     "output_type": "display_data"
    },
    {
     "name": "stdout",
     "output_type": "stream",
     "text": [
      "----------\n"
     ]
    },
    {
     "data": {
      "image/png": "[encoded data removed]",
      "text/plain": [
       "<Figure size 432x288 with 1 Axes>"
      ]
     },
     "metadata": {
      "needs_background": "light"
     },
     "output_type": "display_data"
    },
    {
     "data": {
      "image/png": "[encoded data removed]",
      "text/plain": [
       "<Figure size 432x288 with 1 Axes>"
      ]
     },
     "metadata": {
      "needs_background": "light"
     },
     "output_type": "display_data"
    },
    {
     "name": "stdout",
     "output_type": "stream",
     "text": [
      "----------\n"
     ]
    }
   ],
   "source": [
    "# let's examine some univariate exploration:\n",
    "for col in df:\n",
    "    df[col].hist()\n",
    "    plt.title(col)\n",
    "    plt.show()\n",
    "    sns.boxplot(data=df, x=col)\n",
    "    plt.show()\n",
    "    print('----------')"
   ]
  },
  {
   "cell_type": "code",
   "execution_count": 22,
   "id": "47e31171-8e67-464b-8374-305df4905a72",
   "metadata": {},
   "outputs": [],
   "source": [
    "# Let's examine this via IQR:\n",
    "multiplier = 1.5\n",
    "# let's grab a specific column:\n",
    "# pick examination first\n",
    "# IQR: q3 - q1\n",
    "q1 = df.Examination.quantile(0.25)\n",
    "q3 = df.Examination.quantile(0.75)\n",
    "iqr = q3 - q1"
   ]
  },
  {
   "cell_type": "code",
   "execution_count": 23,
   "id": "054cf341-b940-4d02-8e94-e0884cc5f509",
   "metadata": {},
   "outputs": [
    {
     "data": {
      "text/plain": [
       "(12.0, 22.0, 10.0, 1.5)"
      ]
     },
     "execution_count": 23,
     "metadata": {},
     "output_type": "execute_result"
    }
   ],
   "source": [
    "q1, q3, iqr, multiplier"
   ]
  },
  {
   "cell_type": "code",
   "execution_count": 24,
   "id": "be92e960-7e7a-410e-a426-6955dc871cc8",
   "metadata": {},
   "outputs": [],
   "source": [
    "# calculate our fences\n",
    "lower_fence = q1 - (multiplier * iqr)\n",
    "upper_fence = q3 + (multiplier * iqr)"
   ]
  },
  {
   "cell_type": "code",
   "execution_count": 25,
   "id": "1d5b1ccd-0e2a-4584-9a1d-2501b0ee9099",
   "metadata": {},
   "outputs": [
    {
     "data": {
      "text/plain": [
       "-3.0"
      ]
     },
     "execution_count": 25,
     "metadata": {},
     "output_type": "execute_result"
    }
   ],
   "source": [
    "lower_fence"
   ]
  },
  {
   "cell_type": "code",
   "execution_count": 26,
   "id": "12f54687-4633-4caf-9aef-4429c7defb89",
   "metadata": {},
   "outputs": [
    {
     "data": {
      "text/html": [
       "<div>\n",
       "<style scoped>\n",
       "    .dataframe tbody tr th:only-of-type {\n",
       "        vertical-align: middle;\n",
       "    }\n",
       "\n",
       "    .dataframe tbody tr th {\n",
       "        vertical-align: top;\n",
       "    }\n",
       "\n",
       "    .dataframe thead th {\n",
       "        text-align: right;\n",
       "    }\n",
       "</style>\n",
       "<table border=\"1\" class=\"dataframe\">\n",
       "  <thead>\n",
       "    <tr style=\"text-align: right;\">\n",
       "      <th></th>\n",
       "      <th>Fertility</th>\n",
       "      <th>Agriculture</th>\n",
       "      <th>Examination</th>\n",
       "      <th>Education</th>\n",
       "      <th>Catholic</th>\n",
       "      <th>Infant.Mortality</th>\n",
       "    </tr>\n",
       "  </thead>\n",
       "  <tbody>\n",
       "  </tbody>\n",
       "</table>\n",
       "</div>"
      ],
      "text/plain": [
       "Empty DataFrame\n",
       "Columns: [Fertility, Agriculture, Examination, Education, Catholic, Infant.Mortality]\n",
       "Index: []"
      ]
     },
     "execution_count": 26,
     "metadata": {},
     "output_type": "execute_result"
    }
   ],
   "source": [
    "# df where df[col] < lower fence or df[col] > upper fence\n",
    "df[(df.Examination < lower_fence) | (df.Examination > upper_fence)]"
   ]
  },
  {
   "cell_type": "code",
   "execution_count": 27,
   "id": "ca5708ad-58b0-479c-afd6-79b111d4221e",
   "metadata": {},
   "outputs": [],
   "source": [
    "# if we wanted to carry over this examination,\n",
    "# we would want to create a function in order to assess\n",
    "# the outliers for each column in the dataframe\n",
    "def iqr_outliers(col, multiplier=1.5):\n",
    "    # IQR: q3 - q1\n",
    "    q1 = df[col].quantile(0.25)\n",
    "    q3 = df[col].quantile(0.75)\n",
    "    iqr = q3 - q1\n",
    "    lower_fence = q1 - (multiplier * iqr)\n",
    "    upper_fence = q3 + (multiplier * iqr)\n",
    "    return df[(df[col] < lower_fence) | (df[col] > upper_fence)]"
   ]
  },
  {
   "cell_type": "code",
   "execution_count": 30,
   "id": "399a3cdf-ae93-4607-8484-a4ef5c8d775a",
   "metadata": {},
   "outputs": [
    {
     "data": {
      "text/html": [
       "<div>\n",
       "<style scoped>\n",
       "    .dataframe tbody tr th:only-of-type {\n",
       "        vertical-align: middle;\n",
       "    }\n",
       "\n",
       "    .dataframe tbody tr th {\n",
       "        vertical-align: top;\n",
       "    }\n",
       "\n",
       "    .dataframe thead th {\n",
       "        text-align: right;\n",
       "    }\n",
       "</style>\n",
       "<table border=\"1\" class=\"dataframe\">\n",
       "  <thead>\n",
       "    <tr style=\"text-align: right;\">\n",
       "      <th></th>\n",
       "      <th>Fertility</th>\n",
       "      <th>Agriculture</th>\n",
       "      <th>Examination</th>\n",
       "      <th>Education</th>\n",
       "      <th>Catholic</th>\n",
       "      <th>Infant.Mortality</th>\n",
       "    </tr>\n",
       "  </thead>\n",
       "  <tbody>\n",
       "  </tbody>\n",
       "</table>\n",
       "</div>"
      ],
      "text/plain": [
       "Empty DataFrame\n",
       "Columns: [Fertility, Agriculture, Examination, Education, Catholic, Infant.Mortality]\n",
       "Index: []"
      ]
     },
     "execution_count": 30,
     "metadata": {},
     "output_type": "execute_result"
    }
   ],
   "source": [
    "iqr_outliers('Infant.Mortality', multiplier=3.0)"
   ]
  },
  {
   "cell_type": "code",
   "execution_count": 33,
   "id": "a81bd1da-373b-4479-94e2-96c0a5491119",
   "metadata": {},
   "outputs": [
    {
     "data": {
      "text/plain": [
       "\"|              |   Fertility |   Agriculture |   Examination |   Education |   Catholic |   Infant.Mortality |\\n|:-------------|------------:|--------------:|--------------:|------------:|-----------:|-------------------:|\\n| Courtelary   |        80.2 |          17   |            15 |          12 |       9.96 |               22.2 |\\n| Delemont     |        83.1 |          45.1 |             6 |           9 |      84.84 |               22.2 |\\n| Franches-Mnt |        92.5 |          39.7 |             5 |           5 |      93.4  |               20.2 |\\n| Moutier      |        85.8 |          36.5 |            12 |           7 |      33.77 |               20.3 |\\n| Neuveville   |        76.9 |          43.5 |            17 |          15 |       5.16 |               20.6 |\\n| Porrentruy   |        76.1 |          35.3 |             9 |           7 |      90.57 |               26.6 |\\n| Broye        |        83.8 |          70.2 |            16 |           7 |      92.85 |               23.6 |\\n| Glane        |        92.4 |          67.8 |            14 |           8 |      97.16 |               24.9 |\\n| Gruyere      |        82.4 |          53.3 |            12 |           7 |      97.67 |               21   |\\n| Sarine       |        82.9 |          45.2 |            16 |          13 |      91.38 |               24.4 |\\n| Veveyse      |        87.1 |          64.5 |            14 |           6 |      98.61 |               24.5 |\\n| Aigle        |        64.1 |          62   |            21 |          12 |       8.52 |               16.5 |\\n| Aubonne      |        66.9 |          67.5 |            14 |           7 |       2.27 |               19.1 |\\n| Avenches     |        68.9 |          60.7 |            19 |          12 |       4.43 |               22.7 |\\n| Cossonay     |        61.7 |          69.3 |            22 |           5 |       2.82 |               18.7 |\\n| Echallens    |        68.3 |          72.6 |            18 |           2 |      24.2  |               21.2 |\\n| Grandson     |        71.7 |          34   |            17 |           8 |       3.3  |               20   |\\n| Lausanne     |        55.7 |          19.4 |            26 |          28 |      12.11 |               20.2 |\\n| La Vallee    |        54.3 |          15.2 |            31 |          20 |       2.15 |               10.8 |\\n| Lavaux       |        65.1 |          73   |            19 |           9 |       2.84 |               20   |\\n| Morges       |        65.5 |          59.8 |            22 |          10 |       5.23 |               18   |\\n| Moudon       |        65   |          55.1 |            14 |           3 |       4.52 |               22.4 |\\n| Nyone        |        56.6 |          50.9 |            22 |          12 |      15.14 |               16.7 |\\n| Orbe         |        57.4 |          54.1 |            20 |           6 |       4.2  |               15.3 |\\n| Oron         |        72.5 |          71.2 |            12 |           1 |       2.4  |               21   |\\n| Payerne      |        74.2 |          58.1 |            14 |           8 |       5.23 |               23.8 |\\n| Paysd'enhaut |        72   |          63.5 |             6 |           3 |       2.56 |               18   |\\n| Rolle        |        60.5 |          60.8 |            16 |          10 |       7.72 |               16.3 |\\n| Vevey        |        58.3 |          26.8 |            25 |          19 |      18.46 |               20.9 |\\n| Yverdon      |        65.4 |          49.5 |            15 |           8 |       6.1  |               22.5 |\\n| Conthey      |        75.5 |          85.9 |             3 |           2 |      99.71 |               15.1 |\\n| Entremont    |        69.3 |          84.9 |             7 |           6 |      99.68 |               19.8 |\\n| Herens       |        77.3 |          89.7 |             5 |           2 |     100    |               18.3 |\\n| Martigwy     |        70.5 |          78.2 |            12 |           6 |      98.96 |               19.4 |\\n| Monthey      |        79.4 |          64.9 |             7 |           3 |      98.22 |               20.2 |\\n| St Maurice   |        65   |          75.9 |             9 |           9 |      99.06 |               17.8 |\\n| Sierre       |        92.2 |          84.6 |             3 |           3 |      99.46 |               16.3 |\\n| Sion         |        79.3 |          63.1 |            13 |          13 |      96.83 |               18.1 |\\n| Boudry       |        70.4 |          38.4 |            26 |          12 |       5.62 |               20.3 |\\n| La Chauxdfnd |        65.7 |           7.7 |            29 |          11 |      13.79 |               20.5 |\\n| Le Locle     |        72.7 |          16.7 |            22 |          13 |      11.22 |               18.9 |\\n| Neuchatel    |        64.4 |          17.6 |            35 |          32 |      16.92 |               23   |\\n| Val de Ruz   |        77.6 |          37.6 |            15 |           7 |       4.97 |               20   |\\n| ValdeTravers |        67.6 |          18.7 |            25 |           7 |       8.65 |               19.5 |\\n| V. De Geneve |        35   |           1.2 |            37 |          53 |      42.34 |               18   |\\n| Rive Droite  |        44.7 |          46.6 |            16 |          29 |      50.43 |               18.2 |\\n| Rive Gauche  |        42.8 |          27.7 |            22 |          29 |      58.33 |               19.3 |\""
      ]
     },
     "execution_count": 33,
     "metadata": {},
     "output_type": "execute_result"
    }
   ],
   "source": [
    "df.to_markdown()"
   ]
  },
  {
   "cell_type": "markdown",
   "id": "b008601e-7367-43f7-9760-706d66c0c3c8",
   "metadata": {},
   "source": [
    "|              |   Fertility |   Agriculture |   Examination |   Education |   Catholic |   Infant.Mortality |\n",
    "|:-------------|------------:|--------------:|--------------:|------------:|-----------:|-------------------:|\n",
    "| V. De Geneve |        35   |           1.2 |            37 |          53 |      42.34 |               18   |\n",
    "| Rive Gauche  |        42.8 |          27.7 |            22 |          29 |      58.33 |               19.3 |\n",
    "--------\n",
    "| Fertility   | Agriculture   | Examination   | Education   | Catholic   | Infant.Mortality   |\n",
    "|-------------|---------------|---------------|-------------|------------|--------------------|\n",
    "--------\n",
    "| Fertility   | Agriculture   | Examination   | Education   | Catholic   | Infant.Mortality   |\n",
    "|-------------|---------------|---------------|-------------|------------|--------------------|\n",
    "--------\n",
    "|              |   Fertility |   Agriculture |   Examination |   Education |   Catholic |   Infant.Mortality |\n",
    "|:-------------|------------:|--------------:|--------------:|------------:|-----------:|-------------------:|\n",
    "| Lausanne     |        55.7 |          19.4 |            26 |          28 |      12.11 |               20.2 |\n",
    "| Neuchatel    |        64.4 |          17.6 |            35 |          32 |      16.92 |               23   |\n",
    "| V. De Geneve |        35   |           1.2 |            37 |          53 |      42.34 |               18   |\n",
    "| Rive Droite  |        44.7 |          46.6 |            16 |          29 |      50.43 |               18.2 |\n",
    "| Rive Gauche  |        42.8 |          27.7 |            22 |          29 |      58.33 |               19.3 |\n",
    "--------\n",
    "| Fertility   | Agriculture   | Examination   | Education   | Catholic   | Infant.Mortality   |\n",
    "|-------------|---------------|---------------|-------------|------------|--------------------|\n",
    "--------\n",
    "|           |   Fertility |   Agriculture |   Examination |   Education |   Catholic |   Infant.Mortality |\n",
    "|:----------|------------:|--------------:|--------------:|------------:|-----------:|-------------------:|\n",
    "| La Vallee |        54.3 |          15.2 |            31 |          20 |       2.15 |               10.8 |"
   ]
  },
  {
   "cell_type": "code",
   "execution_count": 31,
   "id": "72f3f588-631e-43a9-bb7e-2e05ed43014f",
   "metadata": {},
   "outputs": [
    {
     "name": "stdout",
     "output_type": "stream",
     "text": [
      "|              |   Fertility |   Agriculture |   Examination |   Education |   Catholic |   Infant.Mortality |\n",
      "|:-------------|------------:|--------------:|--------------:|------------:|-----------:|-------------------:|\n",
      "| V. De Geneve |        35   |           1.2 |            37 |          53 |      42.34 |               18   |\n",
      "| Rive Gauche  |        42.8 |          27.7 |            22 |          29 |      58.33 |               19.3 |\n",
      "--------\n",
      "| Fertility   | Agriculture   | Examination   | Education   | Catholic   | Infant.Mortality   |\n",
      "|-------------|---------------|---------------|-------------|------------|--------------------|\n",
      "--------\n",
      "| Fertility   | Agriculture   | Examination   | Education   | Catholic   | Infant.Mortality   |\n",
      "|-------------|---------------|---------------|-------------|------------|--------------------|\n",
      "--------\n",
      "|              |   Fertility |   Agriculture |   Examination |   Education |   Catholic |   Infant.Mortality |\n",
      "|:-------------|------------:|--------------:|--------------:|------------:|-----------:|-------------------:|\n",
      "| Lausanne     |        55.7 |          19.4 |            26 |          28 |      12.11 |               20.2 |\n",
      "| Neuchatel    |        64.4 |          17.6 |            35 |          32 |      16.92 |               23   |\n",
      "| V. De Geneve |        35   |           1.2 |            37 |          53 |      42.34 |               18   |\n",
      "| Rive Droite  |        44.7 |          46.6 |            16 |          29 |      50.43 |               18.2 |\n",
      "| Rive Gauche  |        42.8 |          27.7 |            22 |          29 |      58.33 |               19.3 |\n",
      "--------\n",
      "| Fertility   | Agriculture   | Examination   | Education   | Catholic   | Infant.Mortality   |\n",
      "|-------------|---------------|---------------|-------------|------------|--------------------|\n",
      "--------\n",
      "|           |   Fertility |   Agriculture |   Examination |   Education |   Catholic |   Infant.Mortality |\n",
      "|:----------|------------:|--------------:|--------------:|------------:|-----------:|-------------------:|\n",
      "| La Vallee |        54.3 |          15.2 |            31 |          20 |       2.15 |               10.8 |\n",
      "--------\n"
     ]
    }
   ],
   "source": [
    "for col in df.columns:\n",
    "    print\n",
    "    print(iqr_outliers(col).to_markdown())\n",
    "    print('--------')"
   ]
  },
  {
   "cell_type": "code",
   "execution_count": 37,
   "id": "dab7ca98-71c6-4675-9c4a-f3aaab923a4c",
   "metadata": {},
   "outputs": [],
   "source": [
    "# let's see what the behavior is like for z-score:\n",
    "# data point  - mean of that feature divided by std of \n",
    "# that feature\n",
    "z_scores_infant_mortality = (\n",
    "    df['Infant.Mortality'] -\n",
    "    df['Infant.Mortality'].mean()) / \\\n",
    "df['Infant.Mortality'].std()"
   ]
  },
  {
   "cell_type": "code",
   "execution_count": 38,
   "id": "cc076a29-6401-4604-8833-2c4ff83875be",
   "metadata": {},
   "outputs": [
    {
     "data": {
      "text/plain": [
       "Courtelary      0.775037\n",
       "Delemont        0.775037\n",
       "Franches-Mnt    0.088388\n",
       "Moutier         0.122720\n",
       "Neuveville      0.225718\n",
       "Name: Infant.Mortality, dtype: float64"
      ]
     },
     "execution_count": 38,
     "metadata": {},
     "output_type": "execute_result"
    }
   ],
   "source": [
    "z_scores_infant_mortality.head()"
   ]
  },
  {
   "cell_type": "code",
   "execution_count": 39,
   "id": "2afa0667-ffa2-4544-9d30-d4f6626099e5",
   "metadata": {},
   "outputs": [],
   "source": [
    "# Lets broadcast that into its own column:\n",
    "df['infant_mortality_zscores'] = \\\n",
    "z_scores_infant_mortality"
   ]
  },
  {
   "cell_type": "code",
   "execution_count": 40,
   "id": "409cbebc-1ad2-42cb-a3f0-0eb862ae22fb",
   "metadata": {},
   "outputs": [
    {
     "data": {
      "text/html": [
       "<div>\n",
       "<style scoped>\n",
       "    .dataframe tbody tr th:only-of-type {\n",
       "        vertical-align: middle;\n",
       "    }\n",
       "\n",
       "    .dataframe tbody tr th {\n",
       "        vertical-align: top;\n",
       "    }\n",
       "\n",
       "    .dataframe thead th {\n",
       "        text-align: right;\n",
       "    }\n",
       "</style>\n",
       "<table border=\"1\" class=\"dataframe\">\n",
       "  <thead>\n",
       "    <tr style=\"text-align: right;\">\n",
       "      <th></th>\n",
       "      <th>Fertility</th>\n",
       "      <th>Agriculture</th>\n",
       "      <th>Examination</th>\n",
       "      <th>Education</th>\n",
       "      <th>Catholic</th>\n",
       "      <th>Infant.Mortality</th>\n",
       "      <th>infant_mortality_zscores</th>\n",
       "    </tr>\n",
       "  </thead>\n",
       "  <tbody>\n",
       "    <tr>\n",
       "      <th>Courtelary</th>\n",
       "      <td>80.2</td>\n",
       "      <td>17.0</td>\n",
       "      <td>15</td>\n",
       "      <td>12</td>\n",
       "      <td>9.96</td>\n",
       "      <td>22.2</td>\n",
       "      <td>0.775037</td>\n",
       "    </tr>\n",
       "    <tr>\n",
       "      <th>Delemont</th>\n",
       "      <td>83.1</td>\n",
       "      <td>45.1</td>\n",
       "      <td>6</td>\n",
       "      <td>9</td>\n",
       "      <td>84.84</td>\n",
       "      <td>22.2</td>\n",
       "      <td>0.775037</td>\n",
       "    </tr>\n",
       "    <tr>\n",
       "      <th>Franches-Mnt</th>\n",
       "      <td>92.5</td>\n",
       "      <td>39.7</td>\n",
       "      <td>5</td>\n",
       "      <td>5</td>\n",
       "      <td>93.40</td>\n",
       "      <td>20.2</td>\n",
       "      <td>0.088388</td>\n",
       "    </tr>\n",
       "    <tr>\n",
       "      <th>Moutier</th>\n",
       "      <td>85.8</td>\n",
       "      <td>36.5</td>\n",
       "      <td>12</td>\n",
       "      <td>7</td>\n",
       "      <td>33.77</td>\n",
       "      <td>20.3</td>\n",
       "      <td>0.122720</td>\n",
       "    </tr>\n",
       "    <tr>\n",
       "      <th>Neuveville</th>\n",
       "      <td>76.9</td>\n",
       "      <td>43.5</td>\n",
       "      <td>17</td>\n",
       "      <td>15</td>\n",
       "      <td>5.16</td>\n",
       "      <td>20.6</td>\n",
       "      <td>0.225718</td>\n",
       "    </tr>\n",
       "  </tbody>\n",
       "</table>\n",
       "</div>"
      ],
      "text/plain": [
       "              Fertility  Agriculture  Examination  Education  Catholic  \\\n",
       "Courtelary         80.2         17.0           15         12      9.96   \n",
       "Delemont           83.1         45.1            6          9     84.84   \n",
       "Franches-Mnt       92.5         39.7            5          5     93.40   \n",
       "Moutier            85.8         36.5           12          7     33.77   \n",
       "Neuveville         76.9         43.5           17         15      5.16   \n",
       "\n",
       "              Infant.Mortality  infant_mortality_zscores  \n",
       "Courtelary                22.2                  0.775037  \n",
       "Delemont                  22.2                  0.775037  \n",
       "Franches-Mnt              20.2                  0.088388  \n",
       "Moutier                   20.3                  0.122720  \n",
       "Neuveville                20.6                  0.225718  "
      ]
     },
     "execution_count": 40,
     "metadata": {},
     "output_type": "execute_result"
    }
   ],
   "source": [
    "df.head()"
   ]
  },
  {
   "cell_type": "code",
   "execution_count": 42,
   "id": "fc79a3bf-daed-4083-be00-654f4e4d6a50",
   "metadata": {},
   "outputs": [
    {
     "data": {
      "text/html": [
       "<div>\n",
       "<style scoped>\n",
       "    .dataframe tbody tr th:only-of-type {\n",
       "        vertical-align: middle;\n",
       "    }\n",
       "\n",
       "    .dataframe tbody tr th {\n",
       "        vertical-align: top;\n",
       "    }\n",
       "\n",
       "    .dataframe thead th {\n",
       "        text-align: right;\n",
       "    }\n",
       "</style>\n",
       "<table border=\"1\" class=\"dataframe\">\n",
       "  <thead>\n",
       "    <tr style=\"text-align: right;\">\n",
       "      <th></th>\n",
       "      <th>Fertility</th>\n",
       "      <th>Agriculture</th>\n",
       "      <th>Examination</th>\n",
       "      <th>Education</th>\n",
       "      <th>Catholic</th>\n",
       "      <th>Infant.Mortality</th>\n",
       "      <th>infant_mortality_zscores</th>\n",
       "    </tr>\n",
       "  </thead>\n",
       "  <tbody>\n",
       "    <tr>\n",
       "      <th>La Vallee</th>\n",
       "      <td>54.3</td>\n",
       "      <td>15.2</td>\n",
       "      <td>31</td>\n",
       "      <td>20</td>\n",
       "      <td>2.15</td>\n",
       "      <td>10.8</td>\n",
       "      <td>-3.138862</td>\n",
       "    </tr>\n",
       "  </tbody>\n",
       "</table>\n",
       "</div>"
      ],
      "text/plain": [
       "           Fertility  Agriculture  Examination  Education  Catholic  \\\n",
       "La Vallee       54.3         15.2           31         20      2.15   \n",
       "\n",
       "           Infant.Mortality  infant_mortality_zscores  \n",
       "La Vallee              10.8                 -3.138862  "
      ]
     },
     "execution_count": 42,
     "metadata": {},
     "output_type": "execute_result"
    }
   ],
   "source": [
    "df[df['infant_mortality_zscores'].abs() >= 3]"
   ]
  },
  {
   "cell_type": "code",
   "execution_count": null,
   "id": "f10c5d17-6c23-4faf-893f-3419a643ed30",
   "metadata": {},
   "outputs": [],
   "source": [
    "# consider making another function for z scores,\n",
    "# examining those for each column,\n",
    "# and then comparing the results of each to its \n",
    "# original data set"
   ]
  }
 ],
 "metadata": {
  "kernelspec": {
   "display_name": "Python 3",
   "language": "python",
   "name": "python3"
  },
  "language_info": {
   "codemirror_mode": {
    "name": "ipython",
    "version": 3
   },
   "file_extension": ".py",
   "mimetype": "text/x-python",
   "name": "python",
   "nbconvert_exporter": "python",
   "pygments_lexer": "ipython3",
   "version": "3.9.4"
  }
 },
 "nbformat": 4,
 "nbformat_minor": 5
}
